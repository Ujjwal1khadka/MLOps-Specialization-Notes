{
  "nbformat": 4,
  "nbformat_minor": 0,
  "metadata": {
    "colab": {
      "provenance": [],
      "mount_file_id": "1cOZoTs9TFgh5eDetwAeINBedpLHr0fUQ",
      "authorship_tag": "ABX9TyOkBMeUo5taE7H++8s2X5QE",
      "include_colab_link": true
    },
    "kernelspec": {
      "name": "python3",
      "display_name": "Python 3"
    },
    "language_info": {
      "name": "python"
    }
  },
  "cells": [
    {
      "cell_type": "markdown",
      "metadata": {
        "id": "view-in-github",
        "colab_type": "text"
      },
      "source": [
        "<a href=\"https://colab.research.google.com/github/Ujjwal1khadka/MLOps-Specialization-Notes/blob/main/Reminders_Recommendation_System_Spark.ipynb\" target=\"_parent\"><img src=\"https://colab.research.google.com/assets/colab-badge.svg\" alt=\"Open In Colab\"/></a>"
      ]
    },
    {
      "cell_type": "code",
      "execution_count": null,
      "metadata": {
        "id": "uB27K_xHOzW_"
      },
      "outputs": [],
      "source": [
        "from pyspark.sql import SparkSession\n",
        "from pyspark.sql.functions import count\n",
        "from pyspark.sql.functions import col\n",
        "from pyspark.sql.functions import regexp_extract\n",
        "\n",
        "from pyspark.ml.feature import StringIndexer\n",
        "from pyspark.ml import Pipeline\n",
        "\n",
        "\n",
        "from pyspark.ml.evaluation import RegressionEvaluator\n",
        "from pyspark.ml.recommendation import ALS\n",
        "from pyspark.sql import Row\n",
        "from pyspark.ml.tuning import ParamGridBuilder, CrossValidator\n",
        "\n",
        "spark = SparkSession.builder\\\n",
        "    .master(\"local\")\\\n",
        "    .appName(\"Colab\")\\\n",
        "    .getOrCreate()"
      ]
    },
    {
      "cell_type": "code",
      "source": [
        "df = spark.read.csv(\"/content/incident_event_log.csv\", header=True)"
      ],
      "metadata": {
        "id": "CHvRzPrVO9-B"
      },
      "execution_count": null,
      "outputs": []
    },
    {
      "cell_type": "code",
      "source": [
        "df.show(5)"
      ],
      "metadata": {
        "colab": {
          "base_uri": "https://localhost:8080/"
        },
        "id": "B6lg_9nhPick",
        "outputId": "0fb476c8-197c-47e5-f73a-c9cbd5fb352b"
      },
      "execution_count": null,
      "outputs": [
        {
          "output_type": "stream",
          "name": "stdout",
          "text": [
            "+----------+--------------+------+------------------+------------+-------------+--------+-----------+--------------+---------------+--------------+---------------+--------------+---------------+------------+------------+-----------+---------------+-----------+-------+----------+----------+------------+----------------+-----------+---------+-----------------------+-------------+----------+---+------+---------+-----------+---------------+---------------+--------------+\n",
            "|    number|incident_state|active|reassignment_count|reopen_count|sys_mod_count|made_sla|  caller_id|     opened_by|      opened_at|sys_created_by| sys_created_at|sys_updated_by| sys_updated_at|contact_type|    location|   category|    subcategory|  u_symptom|cmdb_ci|    impact|   urgency|    priority|assignment_group|assigned_to|knowledge|u_priority_confirmation|       notify|problem_id|rfc|vendor|caused_by|closed_code|    resolved_by|    resolved_at|     closed_at|\n",
            "+----------+--------------+------+------------------+------------+-------------+--------+-----------+--------------+---------------+--------------+---------------+--------------+---------------+------------+------------+-----------+---------------+-----------+-------+----------+----------+------------+----------------+-----------+---------+-----------------------+-------------+----------+---+------+---------+-----------+---------------+---------------+--------------+\n",
            "|INC0000045|           New|  true|                 0|           0|            0|    true|Caller 2403|  Opened by  8|29/2/2016 01:16|  Created by 6|29/2/2016 01:23| Updated by 21|29/2/2016 01:23|       Phone|Location 143|Category 55|Subcategory 170| Symptom 72|      ?|2 - Medium|2 - Medium|3 - Moderate|        Group 56|          ?|     true|                  false|Do Not Notify|         ?|  ?|     ?|        ?|     code 5|Resolved by 149|29/2/2016 11:29|5/3/2016 12:00|\n",
            "|INC0000045|      Resolved|  true|                 0|           0|            2|    true|Caller 2403|  Opened by  8|29/2/2016 01:16|  Created by 6|29/2/2016 01:23|Updated by 642|29/2/2016 08:53|       Phone|Location 143|Category 55|Subcategory 170| Symptom 72|      ?|2 - Medium|2 - Medium|3 - Moderate|        Group 56|          ?|     true|                  false|Do Not Notify|         ?|  ?|     ?|        ?|     code 5|Resolved by 149|29/2/2016 11:29|5/3/2016 12:00|\n",
            "|INC0000045|      Resolved|  true|                 0|           0|            3|    true|Caller 2403|  Opened by  8|29/2/2016 01:16|  Created by 6|29/2/2016 01:23|Updated by 804|29/2/2016 11:29|       Phone|Location 143|Category 55|Subcategory 170| Symptom 72|      ?|2 - Medium|2 - Medium|3 - Moderate|        Group 56|          ?|     true|                  false|Do Not Notify|         ?|  ?|     ?|        ?|     code 5|Resolved by 149|29/2/2016 11:29|5/3/2016 12:00|\n",
            "|INC0000045|        Closed| false|                 0|           0|            4|    true|Caller 2403|  Opened by  8|29/2/2016 01:16|  Created by 6|29/2/2016 01:23|Updated by 908| 5/3/2016 12:00|       Phone|Location 143|Category 55|Subcategory 170| Symptom 72|      ?|2 - Medium|2 - Medium|3 - Moderate|        Group 56|          ?|     true|                  false|Do Not Notify|         ?|  ?|     ?|        ?|     code 5|Resolved by 149|29/2/2016 11:29|5/3/2016 12:00|\n",
            "|INC0000047|           New|  true|                 0|           0|            0|    true|Caller 2403|Opened by  397|29/2/2016 04:40|Created by 171|29/2/2016 04:57|Updated by 746|29/2/2016 04:57|       Phone|Location 165|Category 40|Subcategory 215|Symptom 471|      ?|2 - Medium|2 - Medium|3 - Moderate|        Group 70|Resolver 89|     true|                  false|Do Not Notify|         ?|  ?|     ?|        ?|     code 5| Resolved by 81| 1/3/2016 09:52|6/3/2016 10:00|\n",
            "+----------+--------------+------+------------------+------------+-------------+--------+-----------+--------------+---------------+--------------+---------------+--------------+---------------+------------+------------+-----------+---------------+-----------+-------+----------+----------+------------+----------------+-----------+---------+-----------------------+-------------+----------+---+------+---------+-----------+---------------+---------------+--------------+\n",
            "only showing top 5 rows\n",
            "\n"
          ]
        }
      ]
    },
    {
      "cell_type": "code",
      "source": [
        "print((df.count(), len(df.columns)))"
      ],
      "metadata": {
        "colab": {
          "base_uri": "https://localhost:8080/"
        },
        "id": "JCQ0v3PHRgjU",
        "outputId": "98d3205d-32e4-471c-ce7f-beaf640badfe"
      },
      "execution_count": null,
      "outputs": [
        {
          "output_type": "stream",
          "name": "stdout",
          "text": [
            "(141712, 36)\n"
          ]
        }
      ]
    },
    {
      "cell_type": "code",
      "source": [
        "df.printSchema()\n"
      ],
      "metadata": {
        "colab": {
          "base_uri": "https://localhost:8080/"
        },
        "id": "vxIjxDoSVAbT",
        "outputId": "79445b38-9c8b-4c54-84d5-3a25038743ee"
      },
      "execution_count": null,
      "outputs": [
        {
          "output_type": "stream",
          "name": "stdout",
          "text": [
            "root\n",
            " |-- number: string (nullable = true)\n",
            " |-- incident_state: string (nullable = true)\n",
            " |-- active: string (nullable = true)\n",
            " |-- reassignment_count: string (nullable = true)\n",
            " |-- reopen_count: string (nullable = true)\n",
            " |-- sys_mod_count: string (nullable = true)\n",
            " |-- made_sla: string (nullable = true)\n",
            " |-- caller_id: string (nullable = true)\n",
            " |-- opened_by: string (nullable = true)\n",
            " |-- opened_at: string (nullable = true)\n",
            " |-- sys_created_by: string (nullable = true)\n",
            " |-- sys_created_at: string (nullable = true)\n",
            " |-- sys_updated_by: string (nullable = true)\n",
            " |-- sys_updated_at: string (nullable = true)\n",
            " |-- contact_type: string (nullable = true)\n",
            " |-- location: string (nullable = true)\n",
            " |-- category: string (nullable = true)\n",
            " |-- subcategory: string (nullable = true)\n",
            " |-- u_symptom: string (nullable = true)\n",
            " |-- cmdb_ci: string (nullable = true)\n",
            " |-- impact: string (nullable = true)\n",
            " |-- urgency: string (nullable = true)\n",
            " |-- priority: string (nullable = true)\n",
            " |-- assignment_group: string (nullable = true)\n",
            " |-- assigned_to: string (nullable = true)\n",
            " |-- knowledge: string (nullable = true)\n",
            " |-- u_priority_confirmation: string (nullable = true)\n",
            " |-- notify: string (nullable = true)\n",
            " |-- problem_id: string (nullable = true)\n",
            " |-- rfc: string (nullable = true)\n",
            " |-- vendor: string (nullable = true)\n",
            " |-- caused_by: string (nullable = true)\n",
            " |-- closed_code: string (nullable = true)\n",
            " |-- resolved_by: string (nullable = true)\n",
            " |-- resolved_at: string (nullable = true)\n",
            " |-- closed_at: string (nullable = true)\n",
            "\n"
          ]
        }
      ]
    },
    {
      "cell_type": "markdown",
      "source": [
        "Data Pre-Processing"
      ],
      "metadata": {
        "id": "ZIYA0GrdJHSJ"
      }
    },
    {
      "cell_type": "code",
      "source": [
        "df = df.withColumn(\"caller_id\", regexp_extract(\"caller_id\", r'\\d+', 0))\n",
        "df = df.withColumn(\"opened_by\", regexp_extract(\"caller_id\", r'\\d+', 0))\n",
        "df = df.withColumn(\"sys_created_by\", regexp_extract(\"sys_created_by\", r'\\d+', 0))\n",
        "df = df.withColumn(\"sys_updated_by\", regexp_extract(\"sys_updated_by\", r'\\d+', 0))\n",
        "df = df.withColumn(\"location\", regexp_extract(\"location\", r'\\d+', 0))\n",
        "df = df.withColumn(\"category\", regexp_extract(\"category\", r'\\d+', 0))\n",
        "df = df.withColumn(\"subcategory\", regexp_extract(\"subcategory\", r'\\d+', 0))\n",
        "df = df.withColumn(\"u_symptom\", regexp_extract(\"u_symptom\", r'\\d+', 0))\n",
        "df = df.withColumn(\"assignment_group\", regexp_extract(\"assignment_group\", r'\\d+', 0))\n",
        "df = df.withColumn(\"assigned_to\", regexp_extract(\"assigned_to\", r'\\d+', 0))\n",
        "df = df.withColumn(\"problem_id\", regexp_extract(\"problem_id\", r'\\d+', 0))\n",
        "df = df.withColumn(\"closed_code\", regexp_extract(\"closed_code\", r'\\d+', 0))\n",
        "df = df.withColumn(\"resolved_by\", regexp_extract(\"resolved_by\", r'\\d+', 0))\n",
        "df = df.withColumn(\"urgency\", regexp_extract(\"urgency\", r'\\d+', 0))\n",
        "df = df.withColumn(\"impact\", regexp_extract(\"impact\", r'\\d+', 0))\n",
        "df = df.withColumn(\"priority\", regexp_extract(\"priority\", r'\\d+', 0))\n",
        "\n",
        "df.show(5)\n"
      ],
      "metadata": {
        "colab": {
          "base_uri": "https://localhost:8080/"
        },
        "id": "dv2Usf1iV5Jk",
        "outputId": "8078be61-4cba-40f1-b723-01952c0e8962"
      },
      "execution_count": null,
      "outputs": [
        {
          "output_type": "stream",
          "name": "stdout",
          "text": [
            "+----------+--------------+------+------------------+------------+-------------+--------+---------+---------+---------------+--------------+---------------+--------------+---------------+------------+--------+--------+-----------+---------+-------+------+-------+--------+----------------+-----------+---------+-----------------------+-------------+----------+---+------+---------+-----------+-----------+---------------+--------------+\n",
            "|    number|incident_state|active|reassignment_count|reopen_count|sys_mod_count|made_sla|caller_id|opened_by|      opened_at|sys_created_by| sys_created_at|sys_updated_by| sys_updated_at|contact_type|location|category|subcategory|u_symptom|cmdb_ci|impact|urgency|priority|assignment_group|assigned_to|knowledge|u_priority_confirmation|       notify|problem_id|rfc|vendor|caused_by|closed_code|resolved_by|    resolved_at|     closed_at|\n",
            "+----------+--------------+------+------------------+------------+-------------+--------+---------+---------+---------------+--------------+---------------+--------------+---------------+------------+--------+--------+-----------+---------+-------+------+-------+--------+----------------+-----------+---------+-----------------------+-------------+----------+---+------+---------+-----------+-----------+---------------+--------------+\n",
            "|INC0000045|           New|  true|                 0|           0|            0|    true|     2403|     2403|29/2/2016 01:16|             6|29/2/2016 01:23|            21|29/2/2016 01:23|       Phone|     143|      55|        170|       72|      ?|     2|      2|       3|              56|           |     true|                  false|Do Not Notify|          |  ?|     ?|        ?|          5|        149|29/2/2016 11:29|5/3/2016 12:00|\n",
            "|INC0000045|      Resolved|  true|                 0|           0|            2|    true|     2403|     2403|29/2/2016 01:16|             6|29/2/2016 01:23|           642|29/2/2016 08:53|       Phone|     143|      55|        170|       72|      ?|     2|      2|       3|              56|           |     true|                  false|Do Not Notify|          |  ?|     ?|        ?|          5|        149|29/2/2016 11:29|5/3/2016 12:00|\n",
            "|INC0000045|      Resolved|  true|                 0|           0|            3|    true|     2403|     2403|29/2/2016 01:16|             6|29/2/2016 01:23|           804|29/2/2016 11:29|       Phone|     143|      55|        170|       72|      ?|     2|      2|       3|              56|           |     true|                  false|Do Not Notify|          |  ?|     ?|        ?|          5|        149|29/2/2016 11:29|5/3/2016 12:00|\n",
            "|INC0000045|        Closed| false|                 0|           0|            4|    true|     2403|     2403|29/2/2016 01:16|             6|29/2/2016 01:23|           908| 5/3/2016 12:00|       Phone|     143|      55|        170|       72|      ?|     2|      2|       3|              56|           |     true|                  false|Do Not Notify|          |  ?|     ?|        ?|          5|        149|29/2/2016 11:29|5/3/2016 12:00|\n",
            "|INC0000047|           New|  true|                 0|           0|            0|    true|     2403|     2403|29/2/2016 04:40|           171|29/2/2016 04:57|           746|29/2/2016 04:57|       Phone|     165|      40|        215|      471|      ?|     2|      2|       3|              70|         89|     true|                  false|Do Not Notify|          |  ?|     ?|        ?|          5|         81| 1/3/2016 09:52|6/3/2016 10:00|\n",
            "+----------+--------------+------+------------------+------------+-------------+--------+---------+---------+---------------+--------------+---------------+--------------+---------------+------------+--------+--------+-----------+---------+-------+------+-------+--------+----------------+-----------+---------+-----------------------+-------------+----------+---+------+---------+-----------+-----------+---------------+--------------+\n",
            "only showing top 5 rows\n",
            "\n"
          ]
        }
      ]
    },
    {
      "cell_type": "code",
      "source": [
        "df = df.drop(\"cmdb_ci\")"
      ],
      "metadata": {
        "id": "nlrAOvhcfuT1"
      },
      "execution_count": null,
      "outputs": []
    },
    {
      "cell_type": "code",
      "source": [
        "print((df.count(), len(df.columns)))"
      ],
      "metadata": {
        "colab": {
          "base_uri": "https://localhost:8080/"
        },
        "id": "EOjDjU1RgTJw",
        "outputId": "03736451-96fb-4579-c398-0803ce544987"
      },
      "execution_count": null,
      "outputs": [
        {
          "output_type": "stream",
          "name": "stdout",
          "text": [
            "(141712, 35)\n"
          ]
        }
      ]
    },
    {
      "cell_type": "code",
      "source": [
        "df = df.select(\"caller_id\", \"category\", \"subcategory\", \"incident_state\", \"location\", \"assignment_group\", \"knowledge\", \"urgency\", \"impact\")\n",
        "df = df.na.drop(subset=[\"assignment_group\"])\n",
        "df.show(5)\n"
      ],
      "metadata": {
        "colab": {
          "base_uri": "https://localhost:8080/"
        },
        "id": "Fq30be8gkGa1",
        "outputId": "85f2a865-34aa-47a7-9627-f9035ac10cb1"
      },
      "execution_count": null,
      "outputs": [
        {
          "output_type": "stream",
          "name": "stdout",
          "text": [
            "+---------+--------+-----------+--------------+--------+----------------+---------+-------+------+\n",
            "|caller_id|category|subcategory|incident_state|location|assignment_group|knowledge|urgency|impact|\n",
            "+---------+--------+-----------+--------------+--------+----------------+---------+-------+------+\n",
            "|     2403|      55|        170|           New|     143|              56|     true|      2|     2|\n",
            "|     2403|      55|        170|      Resolved|     143|              56|     true|      2|     2|\n",
            "|     2403|      55|        170|      Resolved|     143|              56|     true|      2|     2|\n",
            "|     2403|      55|        170|        Closed|     143|              56|     true|      2|     2|\n",
            "|     2403|      40|        215|           New|     165|              70|     true|      2|     2|\n",
            "+---------+--------+-----------+--------------+--------+----------------+---------+-------+------+\n",
            "only showing top 5 rows\n",
            "\n"
          ]
        }
      ]
    },
    {
      "cell_type": "code",
      "source": [
        "df = df.filter((df[\"assignment_group\"].isNotNull()))\n",
        "df = df.filter((df[\"location\"].isNotNull()))\n",
        "df = df.filter((df[\"category\"].isNotNull()))\n",
        "df = df.filter((df[\"caller_id\"].isNotNull()))\n",
        "df = df.filter((df[\"impact\"].isNotNull()))\n",
        "df = df.filter((df[\"urgency\"].isNotNull()))\n",
        "df = df.filter((df[\"knowledge\"].isNotNull()))\n",
        "\n",
        "df.show(5)"
      ],
      "metadata": {
        "colab": {
          "base_uri": "https://localhost:8080/"
        },
        "id": "3rcwHZuP8JkH",
        "outputId": "b999fefe-201b-4b11-f364-02094819e9cf"
      },
      "execution_count": null,
      "outputs": [
        {
          "output_type": "stream",
          "name": "stdout",
          "text": [
            "+---------+--------+-----------+--------------+--------+----------------+---------+-------+------+\n",
            "|caller_id|category|subcategory|incident_state|location|assignment_group|knowledge|urgency|impact|\n",
            "+---------+--------+-----------+--------------+--------+----------------+---------+-------+------+\n",
            "|     2403|      55|        170|           New|     143|              56|     true|      2|     2|\n",
            "|     2403|      55|        170|      Resolved|     143|              56|     true|      2|     2|\n",
            "|     2403|      55|        170|      Resolved|     143|              56|     true|      2|     2|\n",
            "|     2403|      55|        170|        Closed|     143|              56|     true|      2|     2|\n",
            "|     2403|      40|        215|           New|     165|              70|     true|      2|     2|\n",
            "+---------+--------+-----------+--------------+--------+----------------+---------+-------+------+\n",
            "only showing top 5 rows\n",
            "\n"
          ]
        }
      ]
    },
    {
      "cell_type": "code",
      "source": [
        "df = df.withColumn(\"caller_id\", col(\"caller_id\").cast(\"integer\"))"
      ],
      "metadata": {
        "id": "S_-nsokqBZhD"
      },
      "execution_count": null,
      "outputs": []
    },
    {
      "cell_type": "code",
      "source": [
        "df = df.withColumn(\"location\", col(\"location\").cast(\"integer\"))\n"
      ],
      "metadata": {
        "id": "WdgmppQXBZlc"
      },
      "execution_count": null,
      "outputs": []
    },
    {
      "cell_type": "code",
      "source": [
        "df = df.withColumn(\"assignment_group\", col(\"assignment_group\").cast(\"integer\"))\n"
      ],
      "metadata": {
        "id": "_W7ThGFRBllb"
      },
      "execution_count": null,
      "outputs": []
    },
    {
      "cell_type": "code",
      "source": [
        "df = df.withColumn(\"impact\", col(\"impact\").cast(\"integer\"))\n"
      ],
      "metadata": {
        "id": "7aMAY_ryEotW"
      },
      "execution_count": null,
      "outputs": []
    },
    {
      "cell_type": "code",
      "source": [
        "df = df.withColumn(\"urgency\", col(\"urgency\").cast(\"integer\"))\n"
      ],
      "metadata": {
        "id": "ZuVTF2kXEovk"
      },
      "execution_count": null,
      "outputs": []
    },
    {
      "cell_type": "code",
      "source": [
        "df = df.withColumn(\"category\", col(\"category\").cast(\"integer\"))\n"
      ],
      "metadata": {
        "id": "XuH5uLKxEox7"
      },
      "execution_count": null,
      "outputs": []
    },
    {
      "cell_type": "code",
      "source": [
        "df = df.withColumn(\"subcategory\", col(\"subcategory\").cast(\"integer\"))\n"
      ],
      "metadata": {
        "id": "_0HTHzTGFDYx"
      },
      "execution_count": null,
      "outputs": []
    },
    {
      "cell_type": "code",
      "source": [
        "df.printSchema()"
      ],
      "metadata": {
        "colab": {
          "base_uri": "https://localhost:8080/"
        },
        "id": "YQsqOCNABlng",
        "outputId": "3e9e9100-fdfe-40e7-a257-e23b04d04a6f"
      },
      "execution_count": null,
      "outputs": [
        {
          "output_type": "stream",
          "name": "stdout",
          "text": [
            "root\n",
            " |-- caller_id: integer (nullable = true)\n",
            " |-- category: integer (nullable = true)\n",
            " |-- subcategory: integer (nullable = true)\n",
            " |-- incident_state: string (nullable = true)\n",
            " |-- location: integer (nullable = true)\n",
            " |-- assignment_group: integer (nullable = true)\n",
            " |-- knowledge: string (nullable = true)\n",
            " |-- urgency: integer (nullable = true)\n",
            " |-- impact: integer (nullable = true)\n",
            "\n"
          ]
        }
      ]
    },
    {
      "cell_type": "code",
      "source": [
        "df.show(5)"
      ],
      "metadata": {
        "colab": {
          "base_uri": "https://localhost:8080/"
        },
        "id": "8G5q2p4jFpc7",
        "outputId": "a7c051a9-6edb-4f54-fced-7f4ecf64e20f"
      },
      "execution_count": null,
      "outputs": [
        {
          "output_type": "stream",
          "name": "stdout",
          "text": [
            "+---------+--------+-----------+--------------+--------+----------------+---------+-------+------+\n",
            "|caller_id|category|subcategory|incident_state|location|assignment_group|knowledge|urgency|impact|\n",
            "+---------+--------+-----------+--------------+--------+----------------+---------+-------+------+\n",
            "|     2403|      55|        170|           New|     143|              56|     true|      2|     2|\n",
            "|     2403|      55|        170|      Resolved|     143|              56|     true|      2|     2|\n",
            "|     2403|      55|        170|      Resolved|     143|              56|     true|      2|     2|\n",
            "|     2403|      55|        170|        Closed|     143|              56|     true|      2|     2|\n",
            "|     2403|      40|        215|           New|     165|              70|     true|      2|     2|\n",
            "+---------+--------+-----------+--------------+--------+----------------+---------+-------+------+\n",
            "only showing top 5 rows\n",
            "\n"
          ]
        }
      ]
    },
    {
      "cell_type": "code",
      "source": [
        "df = df.na.drop(subset=[\"caller_id\"])\n"
      ],
      "metadata": {
        "id": "M9AbsDGdHk72"
      },
      "execution_count": null,
      "outputs": []
    },
    {
      "cell_type": "code",
      "source": [
        "df = df.na.drop(subset=[\"category\"])\n"
      ],
      "metadata": {
        "id": "OD02f2AiHrHw"
      },
      "execution_count": null,
      "outputs": []
    },
    {
      "cell_type": "code",
      "source": [
        "df = df.na.drop(subset=[\"subcategory\"])\n"
      ],
      "metadata": {
        "id": "aJcX_GoxHrKc"
      },
      "execution_count": null,
      "outputs": []
    },
    {
      "cell_type": "code",
      "source": [
        "df = df.na.drop(subset=[\"assignment_group\"])\n"
      ],
      "metadata": {
        "id": "I3uurAc9MUlX"
      },
      "execution_count": null,
      "outputs": []
    },
    {
      "cell_type": "code",
      "source": [
        "columns_to_check = [\"caller_id\", \"category\", \"subcategory\", \"incident_state\", \"location\", \"assignment_group\", \"knowledge\", \"urgency\", \"impact\"]\n",
        "\n",
        "missing_rows = df.filter((col(\"caller_id\").isNull()) |\n",
        " (col(\"location\").isNull()) |\n",
        "(col(\"assignment_group\").isNull()) |\n",
        " (col(\"category\").isNull()) |\n",
        "  (col(\"subcategory\").isNull()) |\n",
        "   (col(\"urgency\").isNull()) |\n",
        "    (col(\"impact\").isNull())|\n",
        "     (col(\"knowledge\").isNull()))\n",
        "\n",
        "num_missing_values = missing_rows.count()\n",
        "\n",
        "missing_rows.show()\n",
        "\n",
        "for column in columns_to_check:\n",
        "    num_missing_values_column = missing_rows.filter(col(column).isNull()).count()\n",
        "    print(\"Number of missing values in column '{}': {}\".format(column, num_missing_values_column))"
      ],
      "metadata": {
        "colab": {
          "base_uri": "https://localhost:8080/"
        },
        "id": "lz9hFhyK-ucT",
        "outputId": "17d43b9f-4c8c-42ef-f9c7-df539d5b463b"
      },
      "execution_count": null,
      "outputs": [
        {
          "output_type": "stream",
          "name": "stdout",
          "text": [
            "+---------+--------+-----------+--------------+--------+----------------+---------+-------+------+\n",
            "|caller_id|category|subcategory|incident_state|location|assignment_group|knowledge|urgency|impact|\n",
            "+---------+--------+-----------+--------------+--------+----------------+---------+-------+------+\n",
            "+---------+--------+-----------+--------------+--------+----------------+---------+-------+------+\n",
            "\n",
            "Number of missing values in column 'caller_id': 0\n",
            "Number of missing values in column 'category': 0\n",
            "Number of missing values in column 'subcategory': 0\n",
            "Number of missing values in column 'incident_state': 0\n",
            "Number of missing values in column 'location': 0\n",
            "Number of missing values in column 'assignment_group': 0\n",
            "Number of missing values in column 'knowledge': 0\n",
            "Number of missing values in column 'urgency': 0\n",
            "Number of missing values in column 'impact': 0\n"
          ]
        }
      ]
    },
    {
      "cell_type": "code",
      "source": [
        "print((df.count(), len(df.columns)))"
      ],
      "metadata": {
        "colab": {
          "base_uri": "https://localhost:8080/"
        },
        "id": "yO_Fuj_AH6R1",
        "outputId": "8480069f-f202-4ef5-d224-ff656e340c32"
      },
      "execution_count": null,
      "outputs": [
        {
          "output_type": "stream",
          "name": "stdout",
          "text": [
            "(127430, 9)\n"
          ]
        }
      ]
    },
    {
      "cell_type": "markdown",
      "source": [
        "Training the model"
      ],
      "metadata": {
        "id": "ZEbTk7flJC-3"
      }
    },
    {
      "cell_type": "code",
      "source": [
        "train_data, test_data = df.randomSplit([0.8, 0.2])\n"
      ],
      "metadata": {
        "id": "OuA0HCVSGiQD"
      },
      "execution_count": null,
      "outputs": []
    },
    {
      "cell_type": "markdown",
      "source": [
        "User Category and it's urgency *Recommendations*"
      ],
      "metadata": {
        "id": "pQbBGjZiYrfm"
      }
    },
    {
      "cell_type": "code",
      "source": [
        "als = ALS(maxIter=5,\n",
        "          regParam=0.01,\n",
        "          userCol=\"caller_id\",\n",
        "          itemCol=\"category\",\n",
        "          ratingCol=\"urgency\",\n",
        "          coldStartStrategy=\"drop\",\n",
        "          nonnegative = True,\n",
        "          implicitPrefs = False)\n",
        "\n",
        "model = als.fit(train_data)\n",
        "\n",
        "userRecs = model.recommendForAllUsers(5)\n",
        "\n",
        "userRecs.show(10, truncate=False)\n",
        "\n",
        "#caller_id: Represents the user for whom recommendations are being provided.\n",
        "#recommendations: Contains a list of top recommended items along with their predicted ratings for the corresponding user.\n",
        "\n",
        "#For user with caller_id 2, the top 5 recommended items are:\n",
        "#category 16 with a predicted rating of 15.535255\n",
        "\n",
        "#he higher the predicted rating, the more likely the category is  recommended to users.\n"
      ],
      "metadata": {
        "colab": {
          "base_uri": "https://localhost:8080/"
        },
        "id": "2qomBuwPI-AB",
        "outputId": "f9c7372d-27c8-42c7-9299-fbafe99eea10"
      },
      "execution_count": null,
      "outputs": [
        {
          "output_type": "stream",
          "name": "stdout",
          "text": [
            "+---------+-----------------------------------------------------------------------------------+\n",
            "|caller_id|recommendations                                                                    |\n",
            "+---------+-----------------------------------------------------------------------------------+\n",
            "|2        |[{16, 15.535255}, {52, 13.432845}, {59, 11.002541}, {5, 10.120635}, {21, 8.300005}]|\n",
            "|4        |[{59, 9.48207}, {52, 9.210654}, {16, 7.8099813}, {5, 7.572008}, {21, 5.5738273}]   |\n",
            "|5        |[{16, 10.794547}, {59, 8.608426}, {5, 8.057395}, {52, 7.5779934}, {21, 5.0074863}] |\n",
            "|6        |[{59, 10.17369}, {52, 8.40568}, {5, 7.4064507}, {21, 4.994644}, {16, 4.8975425}]   |\n",
            "|7        |[{59, 9.131418}, {52, 8.305286}, {5, 6.3837423}, {16, 5.0113325}, {21, 4.9521446}] |\n",
            "|8        |[{16, 9.660321}, {59, 9.524336}, {5, 8.760149}, {52, 8.54721}, {63, 5.5260777}]    |\n",
            "|9        |[{59, 10.17369}, {52, 8.40568}, {5, 7.4064507}, {21, 4.994644}, {16, 4.8975425}]   |\n",
            "|10       |[{16, 10.356836}, {52, 8.955231}, {59, 7.335027}, {5, 6.7470884}, {21, 5.5333366}] |\n",
            "|12       |[{59, 8.238335}, {5, 7.3544397}, {25, 6.6372795}, {10, 5.0022545}, {2, 4.3528957}] |\n",
            "|13       |[{59, 9.320814}, {52, 8.268689}, {5, 8.097899}, {16, 6.9462175}, {21, 4.962624}]   |\n",
            "+---------+-----------------------------------------------------------------------------------+\n",
            "only showing top 10 rows\n",
            "\n"
          ]
        }
      ]
    },
    {
      "cell_type": "code",
      "source": [
        "\n",
        "itemRecs = model.recommendForAllItems(5)\n",
        "\n",
        "itemRecs.show(truncate=False)\n",
        "\n",
        "#For example, for category 20, the top 5 recommended users along with their predicted ratings are:\n",
        "#User 3600 with a predicted rating of 2.9177592\n",
        "\n",
        "#he higher the predicted rating, the more likely the item is to be recommended to users."
      ],
      "metadata": {
        "colab": {
          "base_uri": "https://localhost:8080/"
        },
        "id": "tNm7qibPI-E4",
        "outputId": "30e06e68-9fde-4746-d659-5626f192451d"
      },
      "execution_count": null,
      "outputs": [
        {
          "output_type": "stream",
          "name": "stdout",
          "text": [
            "+--------+-----------------------------------------------------------------------------------------------+\n",
            "|category|recommendations                                                                                |\n",
            "+--------+-----------------------------------------------------------------------------------------------+\n",
            "|20      |[{3600, 2.9177592}, {1189, 2.9177592}, {3027, 2.8641233}, {5209, 2.8195026}, {3177, 2.7929013}]|\n",
            "|40      |[{4267, 2.7813814}, {4161, 2.7813814}, {3622, 2.7813814}, {1015, 2.7813814}, {2, 2.7813814}]   |\n",
            "|10      |[{3177, 9.113786}, {3061, 8.881903}, {3600, 8.799541}, {1189, 8.799541}, {2919, 8.745092}]     |\n",
            "|50      |[{5598, 7.4100776}, {5495, 7.4100776}, {4843, 7.4100776}, {4625, 7.4100776}, {4587, 7.4100776}]|\n",
            "|30      |[{4267, 2.4974804}, {4161, 2.4974804}, {3622, 2.4974804}, {1015, 2.4974804}, {2, 2.4974804}]   |\n",
            "|31      |[{1313, 7.6703005}, {5403, 7.610588}, {1193, 7.0833397}, {853, 6.9105415}, {3746, 6.910368}]   |\n",
            "|41      |[{4866, 2.7422242}, {5370, 2.7383144}, {4267, 2.7344637}, {4161, 2.7344637}, {3622, 2.7344637}]|\n",
            "|61      |[{3746, 2.8706646}, {1865, 2.858153}, {4705, 2.843949}, {4267, 2.8408577}, {4161, 2.8408577}]  |\n",
            "|51      |[{4548, 5.8474627}, {4233, 5.7345243}, {1941, 5.316988}, {1442, 5.0969715}, {4007, 4.922346}]  |\n",
            "|21      |[{3004, 9.175435}, {5370, 8.320481}, {4267, 8.300005}, {4161, 8.300005}, {3622, 8.300005}]     |\n",
            "|12      |[{4866, 2.3417275}, {3746, 2.3241026}, {4267, 2.2860363}, {4161, 2.2860363}, {3622, 2.2860363}]|\n",
            "|22      |[{4267, 4.304569}, {4161, 4.304569}, {3622, 4.304569}, {1015, 4.304569}, {2, 4.304569}]        |\n",
            "|52      |[{3004, 17.516253}, {4267, 13.432845}, {4161, 13.432845}, {3622, 13.432845}, {1015, 13.432845}]|\n",
            "|62      |[{4548, 4.463141}, {2181, 4.2891474}, {4599, 4.182407}, {4828, 3.9297895}, {3335, 3.834337}]   |\n",
            "|32      |[{4228, 2.9586177}, {5598, 2.9297345}, {5495, 2.9297345}, {4843, 2.9297345}, {4625, 2.9297345}]|\n",
            "|42      |[{4632, 2.9185817}, {1967, 2.9185817}, {1857, 2.9185817}, {779, 2.9185817}, {3105, 2.88133}]   |\n",
            "|2       |[{1451, 6.8283157}, {2437, 6.5293446}, {3140, 6.462171}, {1040, 6.3060203}, {4683, 6.0318074}] |\n",
            "|53      |[{3720, 2.9052727}, {3369, 2.9052727}, {3179, 2.9052727}, {2436, 2.9052727}, {2064, 2.9052727}]|\n",
            "|13      |[{4548, 2.9252536}, {3746, 2.9100952}, {3335, 2.851864}, {1287, 2.829779}, {4828, 2.792849}]   |\n",
            "|43      |[{4548, 2.932769}, {4267, 2.9235764}, {4161, 2.9235764}, {3622, 2.9235764}, {1015, 2.9235764}] |\n",
            "+--------+-----------------------------------------------------------------------------------------------+\n",
            "only showing top 20 rows\n",
            "\n"
          ]
        }
      ]
    },
    {
      "cell_type": "code",
      "source": [
        "\n",
        "predictions = model.transform(test_data)\n",
        "\n",
        "\n",
        "evaluator = RegressionEvaluator(metricName=\"rmse\", labelCol=\"urgency\", predictionCol=\"prediction\")\n",
        "\n",
        "# RMSE\n",
        "rmse = evaluator.evaluate(predictions)\n",
        "print(\"Root Mean Squared Error (RMSE) =\", rmse)"
      ],
      "metadata": {
        "id": "3RjWrYHPUUOB",
        "colab": {
          "base_uri": "https://localhost:8080/"
        },
        "outputId": "e9afc218-8ebd-433d-eb5c-7f3a42427089"
      },
      "execution_count": null,
      "outputs": [
        {
          "output_type": "stream",
          "name": "stdout",
          "text": [
            "Root Mean Squared Error (RMSE) = 0.19928682949698487\n"
          ]
        }
      ]
    },
    {
      "cell_type": "code",
      "source": [
        "\n",
        "evaluator = RegressionEvaluator(metricName=\"mse\", labelCol=\"urgency\", predictionCol=\"prediction\")\n",
        "\n",
        "# MSE\n",
        "mse = evaluator.evaluate(predictions)\n",
        "print(\"Mean Squared Error (MSE):\", mse)"
      ],
      "metadata": {
        "colab": {
          "base_uri": "https://localhost:8080/"
        },
        "id": "2byaVhemaMIZ",
        "outputId": "2fc0b4e6-337c-4d9d-9b7c-110b59d435ef"
      },
      "execution_count": null,
      "outputs": [
        {
          "output_type": "stream",
          "name": "stdout",
          "text": [
            "Mean Squared Error (MSE): 0.03971524041096032\n"
          ]
        }
      ]
    },
    {
      "cell_type": "code",
      "source": [],
      "metadata": {
        "id": "D2ar-0eLz-9_"
      },
      "execution_count": null,
      "outputs": []
    }
  ]
}